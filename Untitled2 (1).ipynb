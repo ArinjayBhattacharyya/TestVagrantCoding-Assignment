{
  "nbformat": 4,
  "nbformat_minor": 0,
  "metadata": {
    "colab": {
      "name": "Untitled2.ipynb",
      "provenance": [],
      "collapsed_sections": [],
      "toc_visible": true
    },
    "kernelspec": {
      "name": "python3",
      "display_name": "Python 3"
    },
    "language_info": {
      "name": "python"
    }
  },
  "cells": [
    {
      "cell_type": "code",
      "execution_count": null,
      "metadata": {
        "id": "UNQ_kcjKJFWp"
      },
      "outputs": [],
      "source": [
        "# This is the solution for the question to create small data structure that \n",
        "# holds the details of the teams\n",
        "\n",
        "import pandas as pd\n",
        "\n",
        "record = {\n",
        "    'Teams': ['GT', 'LSG', 'RR', 'DC', 'RCB', 'KKR', 'PBKS', 'SRH', 'CSK', 'MI'],\n",
        "    'Pts': [20, 18, 16, 14, 14, 12, 12, 12, 8, 6],\n",
        "    'Match5': ['W', 'W', 'W', 'W', 'L', 'L', 'L', 'W', 'L', 'L'],\n",
        "    'Match4': ['W', 'L', 'L', 'W', 'W', 'W', 'W', 'L', 'L', 'W'],\n",
        "    'Match3': ['L', 'L', 'W', 'L', 'W', 'W', 'L', 'L', 'W', 'L'],\n",
        "    'Match2': ['L', 'W', 'L', 'W', 'L', 'L', 'W', 'L', 'L', 'W'],\n",
        "    'Match1': ['W', 'W', 'L', 'L', 'L', 'W', 'L', 'L', 'W', 'W']\n",
        "\n",
        "}\n",
        "\n",
        "df = pd.DataFrame(record, columns = ['Teams', 'Pts', 'Match5','Match4','Match3','Match2','Match1'])\n",
        "\n",
        "df['Result'] = df['Match4']+df['Match5']+df['Match2']+df['Match3']+df['Match1']\n",
        "\n",
        "print(df)\n"
      ]
    },
    {
      "cell_type": "code",
      "source": [
        "# This is the solution for the question to progrmmatically retrieve the teams \n",
        "# that have 2 consecutive losses \n",
        "\n",
        "sub = 'LL' # Searching for Sub-string 'LL' inside the String 'Result'\n",
        "df[\"Indexes\"]= df[\"Result\"].str.find(sub)\n",
        "ConsecutiveLosses = df[df['Indexes'] > -1]\n",
        "\n",
        "print('\\nTeams having 2 Consecutive Losses\\n', ConsecutiveLosses)"
      ],
      "metadata": {
        "colab": {
          "base_uri": "https://localhost:8080/"
        },
        "id": "sTTWGlTstm3z",
        "outputId": "0f567a13-9bb5-4d19-fc4c-4b28dc5b315b"
      },
      "execution_count": 85,
      "outputs": [
        {
          "output_type": "stream",
          "name": "stdout",
          "text": [
            "\n",
            "Teams having 2 Consecutive Losses\n",
            "   Teams  Pts Match5 Match4 Match3 Match2 Match1 Result  Indexes\n",
            "0    GT   20      W      W      L      L      W  WWLLW        2\n",
            "3    DC   14      W      W      L      W      L  WWWLL        3\n",
            "4   RCB   14      L      W      W      L      L  WLLWL        1\n",
            "5   KKR   12      L      W      W      L      W  WLLWW        1\n",
            "6  PBKS   12      L      W      L      W      L  WLWLL        3\n",
            "7   SRH   12      W      L      L      L      L  LWLLL        2\n",
            "8   CSK    8      L      L      W      L      W  LLLWW        0\n"
          ]
        }
      ]
    },
    {
      "cell_type": "code",
      "source": [
        "# This is the solution for the qouestion to generalize the solution to get the \n",
        "# teams that have n cosecutive losses/wins\n",
        "\n",
        "sub = input('Enter the amount losses or wins as W or L: ')\n",
        "# Searching for Sub-string 'Input' inside the String 'Result'\n",
        "\n",
        "df[\"Indexes\"]= df[\"Result\"].str.find(sub)\n",
        "Consecutive = df[df['Indexes'] > -1]\n",
        "\n",
        "print('\\nTeams Having Consecutive\\n', sub)\n",
        "print(Consecutive)\n",
        "\n",
        "# This the Solution to Calulate the average of the resulting list\n",
        "df2 = Consecutive[\"Pts\"].mean()\n",
        "print(\"The mean of the points of the teams are \", df2)\n",
        "\n",
        "print(df)\n",
        "\n",
        "\n"
      ],
      "metadata": {
        "colab": {
          "base_uri": "https://localhost:8080/"
        },
        "id": "BebFhGfgtsFg",
        "outputId": "3aed4da2-2fa8-419a-ea6a-07bb482a8d83"
      },
      "execution_count": 86,
      "outputs": [
        {
          "output_type": "stream",
          "name": "stdout",
          "text": [
            "Enter the amount losses or wins as W or L: WW\n",
            "\n",
            "Teams Having Consecutive\n",
            " WW\n",
            "  Teams  Pts Match5 Match4 Match3 Match2 Match1 Result  Indexes\n",
            "0    GT   20      W      W      L      L      W  WWLLW        0\n",
            "1   LSG   18      W      L      L      W      W  LWWLW        1\n",
            "3    DC   14      W      W      L      W      L  WWWLL        0\n",
            "5   KKR   12      L      W      W      L      W  WLLWW        3\n",
            "8   CSK    8      L      L      W      L      W  LLLWW        3\n",
            "The mean of the points of the teams are  14.4\n",
            "  Teams  Pts Match5 Match4 Match3 Match2 Match1 Result  Indexes\n",
            "0    GT   20      W      W      L      L      W  WWLLW        0\n",
            "1   LSG   18      W      L      L      W      W  LWWLW        1\n",
            "2    RR   16      W      L      W      L      L  LWLWL       -1\n",
            "3    DC   14      W      W      L      W      L  WWWLL        0\n",
            "4   RCB   14      L      W      W      L      L  WLLWL       -1\n",
            "5   KKR   12      L      W      W      L      W  WLLWW        3\n",
            "6  PBKS   12      L      W      L      W      L  WLWLL       -1\n",
            "7   SRH   12      W      L      L      L      L  LWLLL       -1\n",
            "8   CSK    8      L      L      W      L      W  LLLWW        3\n",
            "9    MI    6      L      W      L      W      W  WLWLW       -1\n"
          ]
        }
      ]
    }
  ]
}